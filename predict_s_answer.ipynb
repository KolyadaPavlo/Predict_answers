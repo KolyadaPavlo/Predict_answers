{
 "cells": [
  {
   "cell_type": "markdown",
   "id": "buried-israel",
   "metadata": {},
   "source": [
    "## Summary \n",
    "\n",
    "There are binary classification problem. Output format should be (submission.csv):  \n",
    "id,result  \n",
    "5844437,1  \n",
    "5844438,1  \n",
    "5844440,1  \n",
    "5844443,1  \n",
    "5844444,1  \n",
    "5844445,1  \n",
    "...\n",
    "---\n",
    "We need to find for all(854) students their knowleges and \n"
   ]
  },
  {
   "cell_type": "code",
   "execution_count": 352,
   "id": "smaller-sugar",
   "metadata": {},
   "outputs": [
    {
     "name": "stdout",
     "output_type": "stream",
     "text": [
      "setup completed\n"
     ]
    }
   ],
   "source": [
    "import numpy as np # linear algebra\n",
    "import pandas as pd # data processing, CSV file I/O (e.g. pd.read_csv)\n",
    "import matplotlib.pyplot as plt\n",
    "import seaborn as sns\n",
    "import matplotlib as mpl\n",
    "\n",
    "print(\"setup completed\")"
   ]
  },
  {
   "cell_type": "code",
   "execution_count": 353,
   "id": "flying-representative",
   "metadata": {},
   "outputs": [
    {
     "name": "stdout",
     "output_type": "stream",
     "text": [
      "<class 'pandas.core.frame.DataFrame'>\n",
      "Int64Index: 290895 entries, 2173111 to 5843569\n",
      "Data columns (total 8 columns):\n",
      " #   Column       Non-Null Count   Dtype \n",
      "---  ------       --------------   ----- \n",
      " 0   user_id      290895 non-null  int64 \n",
      " 1   unit_id      290895 non-null  int64 \n",
      " 2   result       290895 non-null  int64 \n",
      " 3   modified_at  290895 non-null  object\n",
      " 4   type         290895 non-null  object\n",
      " 5   is_step      290895 non-null  bool  \n",
      " 6   problem_id   290895 non-null  int64 \n",
      " 7   created_at   290895 non-null  object\n",
      "dtypes: bool(1), int64(4), object(3)\n",
      "memory usage: 18.0+ MB\n"
     ]
    }
   ],
   "source": [
    "data = pd.read_csv(\"train.csv\", index_col='id')\n",
    "data_test = pd.read_csv(\"test.csv\", index_col='id')\n",
    "data.info()"
   ]
  },
  {
   "cell_type": "code",
   "execution_count": 354,
   "id": "recreational-italic",
   "metadata": {
    "scrolled": true
   },
   "outputs": [
    {
     "data": {
      "text/html": [
       "<div>\n",
       "<style scoped>\n",
       "    .dataframe tbody tr th:only-of-type {\n",
       "        vertical-align: middle;\n",
       "    }\n",
       "\n",
       "    .dataframe tbody tr th {\n",
       "        vertical-align: top;\n",
       "    }\n",
       "\n",
       "    .dataframe thead th {\n",
       "        text-align: right;\n",
       "    }\n",
       "</style>\n",
       "<table border=\"1\" class=\"dataframe\">\n",
       "  <thead>\n",
       "    <tr style=\"text-align: right;\">\n",
       "      <th></th>\n",
       "      <th>user_id</th>\n",
       "      <th>unit_id</th>\n",
       "      <th>result</th>\n",
       "      <th>is_step</th>\n",
       "      <th>problem_id</th>\n",
       "    </tr>\n",
       "  </thead>\n",
       "  <tbody>\n",
       "    <tr>\n",
       "      <th>count</th>\n",
       "      <td>290895.000000</td>\n",
       "      <td>290895.000000</td>\n",
       "      <td>290895.000000</td>\n",
       "      <td>290895.000000</td>\n",
       "      <td>2.908950e+05</td>\n",
       "    </tr>\n",
       "    <tr>\n",
       "      <th>mean</th>\n",
       "      <td>45492.520160</td>\n",
       "      <td>9630.853115</td>\n",
       "      <td>0.831451</td>\n",
       "      <td>0.144495</td>\n",
       "      <td>6.332009e+06</td>\n",
       "    </tr>\n",
       "    <tr>\n",
       "      <th>std</th>\n",
       "      <td>12287.390028</td>\n",
       "      <td>2699.671957</td>\n",
       "      <td>0.374354</td>\n",
       "      <td>0.351592</td>\n",
       "      <td>2.609964e+05</td>\n",
       "    </tr>\n",
       "    <tr>\n",
       "      <th>min</th>\n",
       "      <td>8477.000000</td>\n",
       "      <td>854.000000</td>\n",
       "      <td>0.000000</td>\n",
       "      <td>0.000000</td>\n",
       "      <td>5.777943e+06</td>\n",
       "    </tr>\n",
       "    <tr>\n",
       "      <th>25%</th>\n",
       "      <td>33139.000000</td>\n",
       "      <td>10437.000000</td>\n",
       "      <td>1.000000</td>\n",
       "      <td>0.000000</td>\n",
       "      <td>6.173430e+06</td>\n",
       "    </tr>\n",
       "    <tr>\n",
       "      <th>50%</th>\n",
       "      <td>46228.000000</td>\n",
       "      <td>10621.000000</td>\n",
       "      <td>1.000000</td>\n",
       "      <td>0.000000</td>\n",
       "      <td>6.320678e+06</td>\n",
       "    </tr>\n",
       "    <tr>\n",
       "      <th>75%</th>\n",
       "      <td>57924.000000</td>\n",
       "      <td>10956.000000</td>\n",
       "      <td>1.000000</td>\n",
       "      <td>0.000000</td>\n",
       "      <td>6.388615e+06</td>\n",
       "    </tr>\n",
       "    <tr>\n",
       "      <th>max</th>\n",
       "      <td>65691.000000</td>\n",
       "      <td>12741.000000</td>\n",
       "      <td>1.000000</td>\n",
       "      <td>1.000000</td>\n",
       "      <td>6.857768e+06</td>\n",
       "    </tr>\n",
       "  </tbody>\n",
       "</table>\n",
       "</div>"
      ],
      "text/plain": [
       "             user_id        unit_id         result        is_step  \\\n",
       "count  290895.000000  290895.000000  290895.000000  290895.000000   \n",
       "mean    45492.520160    9630.853115       0.831451       0.144495   \n",
       "std     12287.390028    2699.671957       0.374354       0.351592   \n",
       "min      8477.000000     854.000000       0.000000       0.000000   \n",
       "25%     33139.000000   10437.000000       1.000000       0.000000   \n",
       "50%     46228.000000   10621.000000       1.000000       0.000000   \n",
       "75%     57924.000000   10956.000000       1.000000       0.000000   \n",
       "max     65691.000000   12741.000000       1.000000       1.000000   \n",
       "\n",
       "         problem_id  \n",
       "count  2.908950e+05  \n",
       "mean   6.332009e+06  \n",
       "std    2.609964e+05  \n",
       "min    5.777943e+06  \n",
       "25%    6.173430e+06  \n",
       "50%    6.320678e+06  \n",
       "75%    6.388615e+06  \n",
       "max    6.857768e+06  "
      ]
     },
     "execution_count": 354,
     "metadata": {},
     "output_type": "execute_result"
    }
   ],
   "source": [
    "#change type is_step to int\n",
    "data['is_step'] = data['is_step'].astype(int)\n",
    "data_test['is_step'] = data_test['is_step'].astype(int)\n",
    "#replase result 2 on 1\n",
    "data['result'] = data['result'].replace(2, 1)\n",
    "data.describe()"
   ]
  },
  {
   "cell_type": "code",
   "execution_count": 355,
   "id": "dominant-superintendent",
   "metadata": {},
   "outputs": [
    {
     "data": {
      "text/html": [
       "<div>\n",
       "<style scoped>\n",
       "    .dataframe tbody tr th:only-of-type {\n",
       "        vertical-align: middle;\n",
       "    }\n",
       "\n",
       "    .dataframe tbody tr th {\n",
       "        vertical-align: top;\n",
       "    }\n",
       "\n",
       "    .dataframe thead th {\n",
       "        text-align: right;\n",
       "    }\n",
       "</style>\n",
       "<table border=\"1\" class=\"dataframe\">\n",
       "  <thead>\n",
       "    <tr style=\"text-align: right;\">\n",
       "      <th></th>\n",
       "      <th>user_id</th>\n",
       "      <th>unit_id</th>\n",
       "      <th>result</th>\n",
       "      <th>is_step</th>\n",
       "      <th>problem_id</th>\n",
       "    </tr>\n",
       "  </thead>\n",
       "  <tbody>\n",
       "    <tr>\n",
       "      <th>count</th>\n",
       "      <td>26270.000000</td>\n",
       "      <td>26270.000000</td>\n",
       "      <td>0.0</td>\n",
       "      <td>26270.000000</td>\n",
       "      <td>2.627000e+04</td>\n",
       "    </tr>\n",
       "    <tr>\n",
       "      <th>mean</th>\n",
       "      <td>60057.314046</td>\n",
       "      <td>9971.997982</td>\n",
       "      <td>NaN</td>\n",
       "      <td>0.144576</td>\n",
       "      <td>6.334816e+06</td>\n",
       "    </tr>\n",
       "    <tr>\n",
       "      <th>std</th>\n",
       "      <td>5635.922853</td>\n",
       "      <td>2431.058786</td>\n",
       "      <td>NaN</td>\n",
       "      <td>0.351679</td>\n",
       "      <td>2.634440e+05</td>\n",
       "    </tr>\n",
       "    <tr>\n",
       "      <th>min</th>\n",
       "      <td>26724.000000</td>\n",
       "      <td>854.000000</td>\n",
       "      <td>NaN</td>\n",
       "      <td>0.000000</td>\n",
       "      <td>5.779997e+06</td>\n",
       "    </tr>\n",
       "    <tr>\n",
       "      <th>25%</th>\n",
       "      <td>58032.000000</td>\n",
       "      <td>10608.000000</td>\n",
       "      <td>NaN</td>\n",
       "      <td>0.000000</td>\n",
       "      <td>6.187463e+06</td>\n",
       "    </tr>\n",
       "    <tr>\n",
       "      <th>50%</th>\n",
       "      <td>61427.000000</td>\n",
       "      <td>10937.000000</td>\n",
       "      <td>NaN</td>\n",
       "      <td>0.000000</td>\n",
       "      <td>6.279074e+06</td>\n",
       "    </tr>\n",
       "    <tr>\n",
       "      <th>75%</th>\n",
       "      <td>64065.000000</td>\n",
       "      <td>11073.000000</td>\n",
       "      <td>NaN</td>\n",
       "      <td>0.000000</td>\n",
       "      <td>6.395228e+06</td>\n",
       "    </tr>\n",
       "    <tr>\n",
       "      <th>max</th>\n",
       "      <td>65691.000000</td>\n",
       "      <td>12433.000000</td>\n",
       "      <td>NaN</td>\n",
       "      <td>1.000000</td>\n",
       "      <td>6.857762e+06</td>\n",
       "    </tr>\n",
       "  </tbody>\n",
       "</table>\n",
       "</div>"
      ],
      "text/plain": [
       "            user_id       unit_id  result       is_step    problem_id\n",
       "count  26270.000000  26270.000000     0.0  26270.000000  2.627000e+04\n",
       "mean   60057.314046   9971.997982     NaN      0.144576  6.334816e+06\n",
       "std     5635.922853   2431.058786     NaN      0.351679  2.634440e+05\n",
       "min    26724.000000    854.000000     NaN      0.000000  5.779997e+06\n",
       "25%    58032.000000  10608.000000     NaN      0.000000  6.187463e+06\n",
       "50%    61427.000000  10937.000000     NaN      0.000000  6.279074e+06\n",
       "75%    64065.000000  11073.000000     NaN      0.000000  6.395228e+06\n",
       "max    65691.000000  12433.000000     NaN      1.000000  6.857762e+06"
      ]
     },
     "execution_count": 355,
     "metadata": {},
     "output_type": "execute_result"
    }
   ],
   "source": [
    "data_test.describe()"
   ]
  },
  {
   "cell_type": "code",
   "execution_count": 356,
   "id": "dress-newspaper",
   "metadata": {},
   "outputs": [
    {
     "data": {
      "text/html": [
       "<div>\n",
       "<style scoped>\n",
       "    .dataframe tbody tr th:only-of-type {\n",
       "        vertical-align: middle;\n",
       "    }\n",
       "\n",
       "    .dataframe tbody tr th {\n",
       "        vertical-align: top;\n",
       "    }\n",
       "\n",
       "    .dataframe thead th {\n",
       "        text-align: right;\n",
       "    }\n",
       "</style>\n",
       "<table border=\"1\" class=\"dataframe\">\n",
       "  <thead>\n",
       "    <tr style=\"text-align: right;\">\n",
       "      <th></th>\n",
       "      <th>user_id</th>\n",
       "      <th>unit_id</th>\n",
       "      <th>result</th>\n",
       "      <th>modified_at</th>\n",
       "      <th>type</th>\n",
       "      <th>is_step</th>\n",
       "      <th>problem_id</th>\n",
       "      <th>created_at</th>\n",
       "    </tr>\n",
       "    <tr>\n",
       "      <th>id</th>\n",
       "      <th></th>\n",
       "      <th></th>\n",
       "      <th></th>\n",
       "      <th></th>\n",
       "      <th></th>\n",
       "      <th></th>\n",
       "      <th></th>\n",
       "      <th></th>\n",
       "    </tr>\n",
       "  </thead>\n",
       "  <tbody>\n",
       "    <tr>\n",
       "      <th>5844437</th>\n",
       "      <td>64419</td>\n",
       "      <td>10485</td>\n",
       "      <td>NaN</td>\n",
       "      <td>2019-09-03T15:05:48.000Z</td>\n",
       "      <td>CHAPTERREVIEW</td>\n",
       "      <td>0</td>\n",
       "      <td>6779408</td>\n",
       "      <td>2019-09-03T15:05:15.000Z</td>\n",
       "    </tr>\n",
       "    <tr>\n",
       "      <th>5844438</th>\n",
       "      <td>64419</td>\n",
       "      <td>10377</td>\n",
       "      <td>NaN</td>\n",
       "      <td>2019-09-03T15:06:20.000Z</td>\n",
       "      <td>CHAPTERREVIEW</td>\n",
       "      <td>0</td>\n",
       "      <td>6775670</td>\n",
       "      <td>2019-09-03T15:05:56.000Z</td>\n",
       "    </tr>\n",
       "    <tr>\n",
       "      <th>5844440</th>\n",
       "      <td>64419</td>\n",
       "      <td>10488</td>\n",
       "      <td>NaN</td>\n",
       "      <td>2019-09-03T15:06:51.000Z</td>\n",
       "      <td>CHAPTERREVIEW</td>\n",
       "      <td>0</td>\n",
       "      <td>6779424</td>\n",
       "      <td>2019-09-03T15:06:28.000Z</td>\n",
       "    </tr>\n",
       "    <tr>\n",
       "      <th>5844443</th>\n",
       "      <td>64419</td>\n",
       "      <td>10429</td>\n",
       "      <td>NaN</td>\n",
       "      <td>2019-09-03T15:08:50.000Z</td>\n",
       "      <td>LESSON</td>\n",
       "      <td>0</td>\n",
       "      <td>6780710</td>\n",
       "      <td>2019-09-03T15:08:27.000Z</td>\n",
       "    </tr>\n",
       "    <tr>\n",
       "      <th>5844444</th>\n",
       "      <td>64419</td>\n",
       "      <td>10430</td>\n",
       "      <td>NaN</td>\n",
       "      <td>2019-09-03T15:09:50.000Z</td>\n",
       "      <td>LESSON</td>\n",
       "      <td>0</td>\n",
       "      <td>6780735</td>\n",
       "      <td>2019-09-03T15:08:59.000Z</td>\n",
       "    </tr>\n",
       "  </tbody>\n",
       "</table>\n",
       "</div>"
      ],
      "text/plain": [
       "         user_id  unit_id  result               modified_at           type  \\\n",
       "id                                                                           \n",
       "5844437    64419    10485     NaN  2019-09-03T15:05:48.000Z  CHAPTERREVIEW   \n",
       "5844438    64419    10377     NaN  2019-09-03T15:06:20.000Z  CHAPTERREVIEW   \n",
       "5844440    64419    10488     NaN  2019-09-03T15:06:51.000Z  CHAPTERREVIEW   \n",
       "5844443    64419    10429     NaN  2019-09-03T15:08:50.000Z         LESSON   \n",
       "5844444    64419    10430     NaN  2019-09-03T15:09:50.000Z         LESSON   \n",
       "\n",
       "         is_step  problem_id                created_at  \n",
       "id                                                      \n",
       "5844437        0     6779408  2019-09-03T15:05:15.000Z  \n",
       "5844438        0     6775670  2019-09-03T15:05:56.000Z  \n",
       "5844440        0     6779424  2019-09-03T15:06:28.000Z  \n",
       "5844443        0     6780710  2019-09-03T15:08:27.000Z  \n",
       "5844444        0     6780735  2019-09-03T15:08:59.000Z  "
      ]
     },
     "execution_count": 356,
     "metadata": {},
     "output_type": "execute_result"
    }
   ],
   "source": [
    "data_test.head()"
   ]
  },
  {
   "cell_type": "code",
   "execution_count": 357,
   "id": "unavailable-davis",
   "metadata": {},
   "outputs": [
    {
     "name": "stdout",
     "output_type": "stream",
     "text": [
      "types in data ['LESSON' 'CHAPTERREVIEW' 'PLACEMENTTEST']\n"
     ]
    },
    {
     "data": {
      "text/html": [
       "<div>\n",
       "<style scoped>\n",
       "    .dataframe tbody tr th:only-of-type {\n",
       "        vertical-align: middle;\n",
       "    }\n",
       "\n",
       "    .dataframe tbody tr th {\n",
       "        vertical-align: top;\n",
       "    }\n",
       "\n",
       "    .dataframe thead th {\n",
       "        text-align: right;\n",
       "    }\n",
       "</style>\n",
       "<table border=\"1\" class=\"dataframe\">\n",
       "  <thead>\n",
       "    <tr style=\"text-align: right;\">\n",
       "      <th></th>\n",
       "      <th>user_id</th>\n",
       "      <th>unit_id</th>\n",
       "      <th>result</th>\n",
       "      <th>modified_at</th>\n",
       "      <th>type</th>\n",
       "      <th>is_step</th>\n",
       "      <th>problem_id</th>\n",
       "      <th>created_at</th>\n",
       "    </tr>\n",
       "  </thead>\n",
       "  <tbody>\n",
       "    <tr>\n",
       "      <th>count</th>\n",
       "      <td>290895</td>\n",
       "      <td>290895</td>\n",
       "      <td>290895</td>\n",
       "      <td>290895</td>\n",
       "      <td>290895</td>\n",
       "      <td>290895</td>\n",
       "      <td>290895</td>\n",
       "      <td>290895</td>\n",
       "    </tr>\n",
       "    <tr>\n",
       "      <th>size</th>\n",
       "      <td>290895</td>\n",
       "      <td>290895</td>\n",
       "      <td>290895</td>\n",
       "      <td>290895</td>\n",
       "      <td>290895</td>\n",
       "      <td>290895</td>\n",
       "      <td>290895</td>\n",
       "      <td>290895</td>\n",
       "    </tr>\n",
       "    <tr>\n",
       "      <th>nunique</th>\n",
       "      <td>854</td>\n",
       "      <td>690</td>\n",
       "      <td>2</td>\n",
       "      <td>250526</td>\n",
       "      <td>3</td>\n",
       "      <td>2</td>\n",
       "      <td>25208</td>\n",
       "      <td>285369</td>\n",
       "    </tr>\n",
       "  </tbody>\n",
       "</table>\n",
       "</div>"
      ],
      "text/plain": [
       "         user_id  unit_id  result  modified_at    type  is_step  problem_id  \\\n",
       "count     290895   290895  290895       290895  290895   290895      290895   \n",
       "size      290895   290895  290895       290895  290895   290895      290895   \n",
       "nunique      854      690       2       250526       3        2       25208   \n",
       "\n",
       "         created_at  \n",
       "count        290895  \n",
       "size         290895  \n",
       "nunique      285369  "
      ]
     },
     "execution_count": 357,
     "metadata": {},
     "output_type": "execute_result"
    }
   ],
   "source": [
    "print(\"types in data\", data[\"type\"].unique())\n",
    "data.agg(['count', 'size', 'nunique'])"
   ]
  },
  {
   "cell_type": "code",
   "execution_count": 358,
   "id": "clear-caribbean",
   "metadata": {},
   "outputs": [
    {
     "name": "stdout",
     "output_type": "stream",
     "text": [
      "On average students answering incorrectly for step questions\n"
     ]
    },
    {
     "data": {
      "text/html": [
       "<div>\n",
       "<style scoped>\n",
       "    .dataframe tbody tr th:only-of-type {\n",
       "        vertical-align: middle;\n",
       "    }\n",
       "\n",
       "    .dataframe tbody tr th {\n",
       "        vertical-align: top;\n",
       "    }\n",
       "\n",
       "    .dataframe thead th {\n",
       "        text-align: right;\n",
       "    }\n",
       "</style>\n",
       "<table border=\"1\" class=\"dataframe\">\n",
       "  <thead>\n",
       "    <tr style=\"text-align: right;\">\n",
       "      <th></th>\n",
       "      <th>is_step</th>\n",
       "      <th>result</th>\n",
       "    </tr>\n",
       "  </thead>\n",
       "  <tbody>\n",
       "    <tr>\n",
       "      <th>0</th>\n",
       "      <td>0</td>\n",
       "      <td>0.854506</td>\n",
       "    </tr>\n",
       "    <tr>\n",
       "      <th>1</th>\n",
       "      <td>1</td>\n",
       "      <td>0.694954</td>\n",
       "    </tr>\n",
       "  </tbody>\n",
       "</table>\n",
       "</div>"
      ],
      "text/plain": [
       "   is_step    result\n",
       "0        0  0.854506\n",
       "1        1  0.694954"
      ]
     },
     "execution_count": 358,
     "metadata": {},
     "output_type": "execute_result"
    }
   ],
   "source": [
    "print(\"On average students answering incorrectly for step questions\")\n",
    "data[[\"is_step\", \"result\"]].groupby(['is_step'], as_index=False).mean().sort_values(by='result', ascending=False)"
   ]
  },
  {
   "cell_type": "code",
   "execution_count": 359,
   "id": "checked-compact",
   "metadata": {},
   "outputs": [
    {
     "name": "stdout",
     "output_type": "stream",
     "text": [
      "average resutls for all types\n"
     ]
    },
    {
     "data": {
      "text/html": [
       "<div>\n",
       "<style scoped>\n",
       "    .dataframe tbody tr th:only-of-type {\n",
       "        vertical-align: middle;\n",
       "    }\n",
       "\n",
       "    .dataframe tbody tr th {\n",
       "        vertical-align: top;\n",
       "    }\n",
       "\n",
       "    .dataframe thead th {\n",
       "        text-align: right;\n",
       "    }\n",
       "</style>\n",
       "<table border=\"1\" class=\"dataframe\">\n",
       "  <thead>\n",
       "    <tr style=\"text-align: right;\">\n",
       "      <th></th>\n",
       "      <th>type</th>\n",
       "      <th>result</th>\n",
       "    </tr>\n",
       "  </thead>\n",
       "  <tbody>\n",
       "    <tr>\n",
       "      <th>0</th>\n",
       "      <td>CHAPTERREVIEW</td>\n",
       "      <td>0.875484</td>\n",
       "    </tr>\n",
       "    <tr>\n",
       "      <th>1</th>\n",
       "      <td>LESSON</td>\n",
       "      <td>0.827712</td>\n",
       "    </tr>\n",
       "    <tr>\n",
       "      <th>2</th>\n",
       "      <td>PLACEMENTTEST</td>\n",
       "      <td>0.610496</td>\n",
       "    </tr>\n",
       "  </tbody>\n",
       "</table>\n",
       "</div>"
      ],
      "text/plain": [
       "            type    result\n",
       "0  CHAPTERREVIEW  0.875484\n",
       "1         LESSON  0.827712\n",
       "2  PLACEMENTTEST  0.610496"
      ]
     },
     "execution_count": 359,
     "metadata": {},
     "output_type": "execute_result"
    }
   ],
   "source": [
    "# this info we will use for testing our model(we should had the same statistic)!!!!!!!!!!!!!!!!\n",
    "print(\"average resutls for all types\")\n",
    "data[[\"type\", \"result\"]].groupby(['type'], as_index=False).mean().sort_values(by='result', ascending=False)"
   ]
  },
  {
   "cell_type": "markdown",
   "id": "honest-importance",
   "metadata": {},
   "source": [
    "### Feature enginering\n",
    "\n",
    "It is already clear that we need to create several new features  \n",
    "based on the student's knowledge. Here are some ideas:\n",
    "\n",
    "---\n",
    "#### question_knowledge \n",
    "We will determine if the student has already taken the necessary  \n",
    "lessons to solve this issue (based on unit-info.json);\n",
    "\n",
    "---\n",
    "#### intelligence\n",
    "We will determine the total amount of student knowledge.  \n",
    "This can be a bad feature for new students. Therefore,  \n",
    "we will have to establish some kind of average level of   \n",
    "training, average value for example. It is also necessary to normalize  \n",
    "this feature, the student can understand one unit well and the other poorly.  \n",
    "\n",
    "---\n",
    "#### question_complexity  \n",
    "How do students answer this question, on average.  \n",
    "Standard value (for new questions): Average value for all questions.  \n",
    "\n",
    "---\n",
    "#### Important Notes:\n",
    "- For all new features, we need to carefully choose the default values. And the variance in these values should be small. Because we will only make it worse.\n",
    "- I have not figured out what to do with the dates, perhaps there is some kind of dependence in their difference, but we will remove that.\n",
    "- For each feature, we have to check the correlation with the result. In any case, we will try to train the model with all the features and only the important ones."
   ]
  },
  {
   "cell_type": "markdown",
   "id": "graduate-unknown",
   "metadata": {},
   "source": [
    "## question_complexity\n",
    "\n",
    "The average for the difficulty of the question is 0.763213.  \n",
    "1 is a simple question (everyone answered correctly).  \n",
    "0 is a hard question (all answered wrong).  "
   ]
  },
  {
   "cell_type": "code",
   "execution_count": 360,
   "id": "equipped-footage",
   "metadata": {},
   "outputs": [
    {
     "name": "stdout",
     "output_type": "stream",
     "text": [
      "mean           0.763213\n",
      "size       25208.000000\n",
      "nunique      947.000000\n",
      "Name: question_complexity, dtype: float64\n"
     ]
    },
    {
     "name": "stderr",
     "output_type": "stream",
     "text": [
      "C:\\Users\\pavlo\\Anaconda3\\envs\\DataScience\\lib\\site-packages\\seaborn\\distributions.py:2557: FutureWarning: `distplot` is a deprecated function and will be removed in a future version. Please adapt your code to use either `displot` (a figure-level function with similar flexibility) or `histplot` (an axes-level function for histograms).\n",
      "  warnings.warn(msg, FutureWarning)\n"
     ]
    },
    {
     "data": {
      "text/plain": [
       "<AxesSubplot:xlabel='question_complexity', ylabel='Density'>"
      ]
     },
     "execution_count": 360,
     "metadata": {},
     "output_type": "execute_result"
    },
    {
     "data": {
      "image/png": "[encoded data removed]",
      "text/plain": [
       "<Figure size 432x288 with 1 Axes>"
      ]
     },
     "metadata": {
      "needs_background": "light"
     },
     "output_type": "display_data"
    }
   ],
   "source": [
    "question_complexity = (\n",
    "    data.groupby(\"problem_id\") \n",
    "    [\"result\"].sum() / data.groupby(\"problem_id\") \n",
    "    [\"result\"].count()                 \n",
    ")\n",
    "question_complexity.name=\"question_complexity\"\n",
    "print(question_complexity.agg(['mean', 'size', 'nunique']))\n",
    "sns.distplot(question_complexity)"
   ]
  },
  {
   "cell_type": "markdown",
   "id": "about-weapon",
   "metadata": {},
   "source": [
    "### intelligence\n",
    "\n",
    "There are smart students. average intelligence 0.823986."
   ]
  },
  {
   "cell_type": "code",
   "execution_count": 361,
   "id": "small-riverside",
   "metadata": {
    "scrolled": false
   },
   "outputs": [
    {
     "name": "stdout",
     "output_type": "stream",
     "text": [
      "mean         0.823986\n",
      "size       854.000000\n",
      "nunique    790.000000\n",
      "Name: intelligence, dtype: float64\n"
     ]
    },
    {
     "name": "stderr",
     "output_type": "stream",
     "text": [
      "C:\\Users\\pavlo\\Anaconda3\\envs\\DataScience\\lib\\site-packages\\seaborn\\distributions.py:2557: FutureWarning: `distplot` is a deprecated function and will be removed in a future version. Please adapt your code to use either `displot` (a figure-level function with similar flexibility) or `histplot` (an axes-level function for histograms).\n",
      "  warnings.warn(msg, FutureWarning)\n"
     ]
    },
    {
     "data": {
      "text/plain": [
       "<AxesSubplot:xlabel='intelligence', ylabel='Density'>"
      ]
     },
     "execution_count": 361,
     "metadata": {},
     "output_type": "execute_result"
    },
    {
     "data": {
      "image/png": "[encoded data removed]",
      "text/plain": [
       "<Figure size 432x288 with 1 Axes>"
      ]
     },
     "metadata": {
      "needs_background": "light"
     },
     "output_type": "display_data"
    }
   ],
   "source": [
    "intelligence = (\n",
    "    data.groupby(\"user_id\") \n",
    "    [\"result\"].sum() / data.groupby(\"user_id\") \n",
    "    [\"result\"].count()                 \n",
    ")\n",
    "intelligence.name=\"intelligence\"\n",
    "print(intelligence.agg(['mean', 'size', 'nunique']))\n",
    "sns.distplot(intelligence)"
   ]
  },
  {
   "cell_type": "markdown",
   "id": "narrow-current",
   "metadata": {},
   "source": [
    "## Model training"
   ]
  },
  {
   "cell_type": "code",
   "execution_count": 362,
   "id": "distributed-cable",
   "metadata": {},
   "outputs": [],
   "source": [
    "def add_featues(data_frame):\n",
    "    result = pd.merge(data_frame, question_complexity, on='problem_id', how='outer')\n",
    "    result = result.fillna(0.763213)\n",
    "    result = pd.merge(result, intelligence, on='user_id', how='outer')\n",
    "    result = result.fillna(0.823986)\n",
    "    return result"
   ]
  },
  {
   "cell_type": "code",
   "execution_count": 363,
   "id": "experienced-breakfast",
   "metadata": {},
   "outputs": [
    {
     "name": "stderr",
     "output_type": "stream",
     "text": [
      "C:\\Users\\pavlo\\AppData\\Roaming\\Python\\Python37\\site-packages\\pandas\\core\\reshape\\merge.py:1145: UserWarning: You are merging on int and float columns where the float values are not equal to their int representation\n",
      "  UserWarning,\n"
     ]
    },
    {
     "data": {
      "text/html": [
       "<div>\n",
       "<style scoped>\n",
       "    .dataframe tbody tr th:only-of-type {\n",
       "        vertical-align: middle;\n",
       "    }\n",
       "\n",
       "    .dataframe tbody tr th {\n",
       "        vertical-align: top;\n",
       "    }\n",
       "\n",
       "    .dataframe thead th {\n",
       "        text-align: right;\n",
       "    }\n",
       "</style>\n",
       "<table border=\"1\" class=\"dataframe\">\n",
       "  <thead>\n",
       "    <tr style=\"text-align: right;\">\n",
       "      <th></th>\n",
       "      <th>user_id</th>\n",
       "      <th>unit_id</th>\n",
       "      <th>result</th>\n",
       "      <th>is_step</th>\n",
       "      <th>problem_id</th>\n",
       "      <th>question_complexity</th>\n",
       "      <th>intelligence</th>\n",
       "    </tr>\n",
       "  </thead>\n",
       "  <tbody>\n",
       "    <tr>\n",
       "      <th>count</th>\n",
       "      <td>45200.000000</td>\n",
       "      <td>45200.000000</td>\n",
       "      <td>45200.000000</td>\n",
       "      <td>45200.000000</td>\n",
       "      <td>4.520000e+04</td>\n",
       "      <td>45200.000000</td>\n",
       "      <td>45200.000000</td>\n",
       "    </tr>\n",
       "    <tr>\n",
       "      <th>mean</th>\n",
       "      <td>35654.650397</td>\n",
       "      <td>5795.992929</td>\n",
       "      <td>0.764225</td>\n",
       "      <td>0.404677</td>\n",
       "      <td>6.227311e+06</td>\n",
       "      <td>0.794490</td>\n",
       "      <td>0.826759</td>\n",
       "    </tr>\n",
       "    <tr>\n",
       "      <th>std</th>\n",
       "      <td>29662.487579</td>\n",
       "      <td>5257.020733</td>\n",
       "      <td>0.007778</td>\n",
       "      <td>0.407217</td>\n",
       "      <td>8.478162e+05</td>\n",
       "      <td>0.277634</td>\n",
       "      <td>0.066191</td>\n",
       "    </tr>\n",
       "    <tr>\n",
       "      <th>min</th>\n",
       "      <td>0.763213</td>\n",
       "      <td>0.763213</td>\n",
       "      <td>0.763213</td>\n",
       "      <td>0.000000</td>\n",
       "      <td>8.239860e-01</td>\n",
       "      <td>0.000000</td>\n",
       "      <td>0.000000</td>\n",
       "    </tr>\n",
       "    <tr>\n",
       "      <th>25%</th>\n",
       "      <td>0.763213</td>\n",
       "      <td>0.763213</td>\n",
       "      <td>0.763213</td>\n",
       "      <td>0.000000</td>\n",
       "      <td>6.183749e+06</td>\n",
       "      <td>0.729730</td>\n",
       "      <td>0.823301</td>\n",
       "    </tr>\n",
       "    <tr>\n",
       "      <th>50%</th>\n",
       "      <td>55696.000000</td>\n",
       "      <td>9332.000000</td>\n",
       "      <td>0.763213</td>\n",
       "      <td>0.763213</td>\n",
       "      <td>6.279156e+06</td>\n",
       "      <td>0.900000</td>\n",
       "      <td>0.823986</td>\n",
       "    </tr>\n",
       "    <tr>\n",
       "      <th>75%</th>\n",
       "      <td>62551.000000</td>\n",
       "      <td>10974.000000</td>\n",
       "      <td>0.763213</td>\n",
       "      <td>0.763213</td>\n",
       "      <td>6.388518e+06</td>\n",
       "      <td>1.000000</td>\n",
       "      <td>0.857369</td>\n",
       "    </tr>\n",
       "    <tr>\n",
       "      <th>max</th>\n",
       "      <td>65691.000000</td>\n",
       "      <td>12433.000000</td>\n",
       "      <td>0.823986</td>\n",
       "      <td>1.000000</td>\n",
       "      <td>6.857768e+06</td>\n",
       "      <td>1.000000</td>\n",
       "      <td>1.000000</td>\n",
       "    </tr>\n",
       "  </tbody>\n",
       "</table>\n",
       "</div>"
      ],
      "text/plain": [
       "            user_id       unit_id        result       is_step    problem_id  \\\n",
       "count  45200.000000  45200.000000  45200.000000  45200.000000  4.520000e+04   \n",
       "mean   35654.650397   5795.992929      0.764225      0.404677  6.227311e+06   \n",
       "std    29662.487579   5257.020733      0.007778      0.407217  8.478162e+05   \n",
       "min        0.763213      0.763213      0.763213      0.000000  8.239860e-01   \n",
       "25%        0.763213      0.763213      0.763213      0.000000  6.183749e+06   \n",
       "50%    55696.000000   9332.000000      0.763213      0.763213  6.279156e+06   \n",
       "75%    62551.000000  10974.000000      0.763213      0.763213  6.388518e+06   \n",
       "max    65691.000000  12433.000000      0.823986      1.000000  6.857768e+06   \n",
       "\n",
       "       question_complexity  intelligence  \n",
       "count         45200.000000  45200.000000  \n",
       "mean              0.794490      0.826759  \n",
       "std               0.277634      0.066191  \n",
       "min               0.000000      0.000000  \n",
       "25%               0.729730      0.823301  \n",
       "50%               0.900000      0.823986  \n",
       "75%               1.000000      0.857369  \n",
       "max               1.000000      1.000000  "
      ]
     },
     "execution_count": 363,
     "metadata": {},
     "output_type": "execute_result"
    }
   ],
   "source": [
    "data = add_featues(data)\n",
    "data_test = add_featues(data_test)\n",
    "data_test.describe()"
   ]
  },
  {
   "cell_type": "code",
   "execution_count": 364,
   "id": "statewide-agent",
   "metadata": {},
   "outputs": [],
   "source": [
    "from sklearn.model_selection import train_test_split\n",
    "\n",
    "X_train, X_test, y_train, y_test = train_test_split(\n",
    "    data[['is_step', 'question_complexity', 'intelligence']], data['result'], test_size=0.33, random_state=1)"
   ]
  },
  {
   "cell_type": "code",
   "execution_count": 365,
   "id": "driven-relationship",
   "metadata": {},
   "outputs": [
    {
     "data": {
      "text/plain": [
       "94.88"
      ]
     },
     "execution_count": 365,
     "metadata": {},
     "output_type": "execute_result"
    }
   ],
   "source": [
    "from sklearn.ensemble import RandomForestClassifier\n",
    "\n",
    "random_forest = RandomForestClassifier(n_estimators=10)\n",
    "random_forest.fit(X_train, y_train)\n",
    "y_pred = random_forest.predict(X_test)\n",
    "random_forest.score(X_train, y_train)\n",
    "acc_random_forest = round(random_forest.score(X_train, y_train) * 100, 2)\n",
    "acc_random_forest"
   ]
  },
  {
   "cell_type": "code",
   "execution_count": 366,
   "id": "governmental-split",
   "metadata": {},
   "outputs": [
    {
     "name": "stdout",
     "output_type": "stream",
     "text": [
      "0.8345575221238938\n"
     ]
    }
   ],
   "source": [
    "Y_final = random_forest.predict(data_test[['is_step', 'question_complexity', 'intelligence']])\n",
    "print(Y_final.sum()/len(Y_final))\n",
    "output = pd.DataFrame({'id': data_test.index, 'result': Y_final})\n",
    "output.to_csv('my_submission.csv', index=False)"
   ]
  },
  {
   "cell_type": "code",
   "execution_count": 367,
   "id": "preliminary-tunisia",
   "metadata": {},
   "outputs": [
    {
     "name": "stdout",
     "output_type": "stream",
     "text": [
      "different users  1\n",
      "different problems 850\n"
     ]
    }
   ],
   "source": [
    "# Let's compare the test and training sets for the number of the same students and questions. \n",
    "# If there are many different students and questions, the model will not work.\n",
    "# Result: No new students and few new questions (good).\n",
    "user_U_t = data['user_id'].unique()\n",
    "user_U = data_test['user_id'].unique()\n",
    "problem_U_t = data['problem_id'].unique()\n",
    "problem_U = data_test['problem_id'].unique()\n",
    "\n",
    "user_t = [1 for x in user_U if x not in user_U_t]\n",
    "problem_t = [1 for x in problem_U if x not in problem_U_t]\n",
    "\n",
    "print(\"different users \", len(user_t))\n",
    "print(\"different problems\", len(problem_t))"
   ]
  },
  {
   "cell_type": "markdown",
   "id": "living-disorder",
   "metadata": {},
   "source": [
    "\n",
    "\n",
    "\n",
    "* It is a mission to predict whether a student will get the right answer or not when he or she encounters a new question through learning data from students studying mathematics. Provide data for training and metadata surrounding it, and freely utilize the tools and methodologies you have to present a right or wrong prediction model.\n",
    "\n",
    "\n",
    "\n",
    "\n",
    "### `curriculum-info.json`\n",
    "\n",
    "*Metadata corresponding to Curriculum (grade) in mathematics curriculum with Curriculum-Chapter-Lesson-Unit. One Curriculum has multiple chapters.\n",
    "\n",
    "* field information \n",
    "  * `id`: curriculum ID(Number)\n",
    "  * `name`: name of curriculum(String)\n",
    "\n",
    "\n",
    "### `chapter-info.json`\n",
    "\n",
    "* Metadata corresponding to Chapter in a mathematics curriculum consisting of Curriculum-Chapter-Lesson-Unit. One Chapter has multiple Lessons.\n",
    "\n",
    "* field information\n",
    "  * `id`: chapter ID(Number)\n",
    "  * `curriculum_id`: chapter inside curriculmn ID(Number)\n",
    "  * `seq`: The order in which these chapters appear in your curriculum\n",
    "  * `name`: chapter name(String)\n",
    "\n",
    "\n",
    "### `lesson-info.json`\n",
    "\n",
    "* Metadata corresponding to Lesson in a mathematics curriculum consisting of Curriculum-Chapter-Lesson-Unit. Lesson has multiple units, and one unit can belong to multiple Lessons.\n",
    "\n",
    "* field information \n",
    "  * `id`: lesson ID(Number)\n",
    "  * `chapter_id`: lesson inside chapter ID(Number)\n",
    "  * `seq`: The order in which the lesson appears in your chapter.(Number)\n",
    "  * `name`: lesson name(String)\n",
    "\n",
    "\n",
    "### `unit-info.json`\n",
    "\n",
    "* Metadata corresponding to Unit knowledge in mathematics curricula consisting of Curriculum-Chapter-Lesson-Unit.\n",
    "\n",
    "* field information\n",
    "  * `id`: unit of knowledge ID(Number)\n",
    "  * `name`: unit of knowledge name(String)\n",
    "  * `lessons`: List of lessons to which unit knowledge belongs(Array)\n",
    "    * `id`: The lesson ID to which the unit knowledge belongs(Number)\n",
    "    * `tier`: True if unit knowledge appears as a body problem in the lesson, false if only as a step problem\n",
    "\n",
    "\n",
    "### `unit-dependency.json`\n",
    "\n",
    "* Unit is the unit knowledge of a math problem. Some knowledge has prior knowledge to study that knowledge (for example, knowledge of factorization and quadratic equations is required to solve quadratic equations), which is data on this dependency graph.\n",
    "\n",
    "* field information \n",
    "  * `id`: unit knowledge ID(Number)\n",
    "  * `dependencies`: Arrangement of pre-knowledge IDs to study the unit knowledge(Array)\n",
    "\n",
    "\n",
    "### `train.csv`\n",
    "\n",
    "* This is the study data of students that will be used as a training set. It contains questions solved by students and data for right or wrong answers.\n",
    "\n",
    "* Column Description\n",
    "* 'id': Record Sequence (int)\n",
    "* 'user_id': Student ID(int)\n",
    "* 'unit_id': unit knowledge ID(int)\n",
    "* 'result': Correct or wrong answer (0/1)\n",
    "* 'modified_at': Record final modification timestamp (when correcting results after problem, this is the time stamp at the time of change)\n",
    "* 'type': Record type\n",
    "* 'LESSON': Records generated during lesson learning\n",
    "* 'REVIEW': Records generated from lesson reviews after lesson learning\n",
    "* 'CHAPTERREVIEW': Records generated from Chapter review after chapter learning\n",
    "* 'PLACEMENTEST': Records generated from diagnostic evaluations\n",
    "* 'is_step': whether it is a step problem (bool)\n",
    "* `problem_id`: 문항 ID(int)  //////////////// question id\n",
    "* Each unit knowledge is created into multiple questions using different values (for example, different coefficients in the \"secondary factorization\" unit knowledge).\n",
    "* 'created_at': the first time stamp of a record (the time stamp when the problem log is generated prior to the problem)\n",
    "\n",
    "\n",
    "\n",
    "\n",
    "\n",
    "\n",
    "## requirement\n",
    "\n",
    "* Create a model that generates the 'submission.csv' file with the following two columns:\n",
    "* 'id': Column value of test data (can be changed in order)\n",
    "* 'result': Column value of test set record with corresponding 'id' predicted through model\n",
    "\n",
    "You may also refer to the example result file 'submission-example.csv'.\n",
    "\n",
    "* Please briefly specify how to run the model through the README file.\n",
    "\n",
    "* Please briefly explain how you constructed your model through the README file, what assumptions you made, and why you made them.\n",
    "\n",
    "* Some of the data in the training set may not meet the specifications specified above. The data preprocessing process is also intentionally placed so that it can be as close to the Real World dataset as possible, so you can process it in the appropriate way.\n"
   ]
  }
 ],
 "metadata": {
  "kernelspec": {
   "display_name": "Python 3",
   "language": "python",
   "name": "python3"
  },
  "language_info": {
   "codemirror_mode": {
    "name": "ipython",
    "version": 3
   },
   "file_extension": ".py",
   "mimetype": "text/x-python",
   "name": "python",
   "nbconvert_exporter": "python",
   "pygments_lexer": "ipython3",
   "version": "3.7.9"
  }
 },
 "nbformat": 4,
 "nbformat_minor": 5
}
